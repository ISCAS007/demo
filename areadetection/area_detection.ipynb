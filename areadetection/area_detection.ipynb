{
 "cells": [
  {
   "cell_type": "markdown",
   "metadata": {},
   "source": [
    "# pytorch 1.0\n",
    "## conda env cuda10.0"
   ]
  },
  {
   "cell_type": "code",
   "execution_count": null,
   "metadata": {},
   "outputs": [],
   "source": [
    "import os\n",
    "import sys\n",
    "project_path=os.path.expanduser('~/git/torchdet')\n",
    "sys.path.insert(0,project_path)"
   ]
  },
  {
   "cell_type": "code",
   "execution_count": null,
   "metadata": {},
   "outputs": [],
   "source": [
    "# people detection\n",
    "\n",
    "roi=[10,20,30,40]\n",
    "label='people'\n",
    "input_video_name='test.mp4'\n",
    "output_video_name='output.mp4'\n",
    "roi_check(input_video_name,label,roi,output_video_name)"
   ]
  }
 ],
 "metadata": {
  "kernelspec": {
   "display_name": "Python [conda env:cuda10.0]",
   "language": "python",
   "name": "conda-env-cuda10.0-py"
  },
  "language_info": {
   "codemirror_mode": {
    "name": "ipython",
    "version": 3
   },
   "file_extension": ".py",
   "mimetype": "text/x-python",
   "name": "python",
   "nbconvert_exporter": "python",
   "pygments_lexer": "ipython3",
   "version": "3.6.8"
  }
 },
 "nbformat": 4,
 "nbformat_minor": 2
}
